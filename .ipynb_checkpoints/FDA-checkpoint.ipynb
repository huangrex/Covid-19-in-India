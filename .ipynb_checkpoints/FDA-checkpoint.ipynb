{
 "cells": [
  {
   "cell_type": "code",
   "execution_count": null,
   "metadata": {
    "colab": {
     "base_uri": "https://localhost:8080/",
     "height": 70
    },
    "colab_type": "code",
    "executionInfo": {
     "elapsed": 3489,
     "status": "ok",
     "timestamp": 1592086342175,
     "user": {
      "displayName": "hung rex",
      "photoUrl": "",
      "userId": "00156008816285199967"
     },
     "user_tz": -480
    },
    "id": "7BF_YHvaUlzR",
    "outputId": "a9598977-dff6-4260-fcd4-25760274a869"
   },
   "outputs": [],
   "source": [
    "import time\n",
    "import numpy as np\n",
    "import pandas as pd\n",
    "import matplotlib.pyplot as plt\n",
    "import seaborn as sns\n",
    "import json\n",
    "import plotly as py \n",
    "import plotly.figure_factory as ff \n",
    "import plotly.express as px\n",
    "import requests\n",
    "import copy\n",
    "from plotly.offline import plot"
   ]
  },
  {
   "cell_type": "code",
   "execution_count": null,
   "metadata": {
    "colab": {
     "base_uri": "https://localhost:8080/",
     "height": 270
    },
    "colab_type": "code",
    "executionInfo": {
     "elapsed": 21304,
     "status": "ok",
     "timestamp": 1592086365005,
     "user": {
      "displayName": "hung rex",
      "photoUrl": "",
      "userId": "00156008816285199967"
     },
     "user_tz": -480
    },
    "id": "PRMNIumFMSTb",
    "outputId": "c33418b8-b3f0-4e37-ca27-a609dc67092f"
   },
   "outputs": [],
   "source": [
    "pip install plotly==4.8.1"
   ]
  },
  {
   "cell_type": "code",
   "execution_count": 3,
   "metadata": {
    "colab": {
     "base_uri": "https://localhost:8080/",
     "height": 34
    },
    "colab_type": "code",
    "executionInfo": {
     "elapsed": 16722,
     "status": "ok",
     "timestamp": 1592086365006,
     "user": {
      "displayName": "hung rex",
      "photoUrl": "",
      "userId": "00156008816285199967"
     },
     "user_tz": -480
    },
    "id": "261OTiC9M7eX",
    "outputId": "cf884727-9d03-4ea3-cc66-2f8e2d720b05"
   },
   "outputs": [
    {
     "data": {
      "text/plain": [
       "'4.4.1'"
      ]
     },
     "execution_count": 3,
     "metadata": {
      "tags": []
     },
     "output_type": "execute_result"
    }
   ],
   "source": [
    "py.__version__"
   ]
  },
  {
   "cell_type": "code",
   "execution_count": 4,
   "metadata": {
    "colab": {
     "base_uri": "https://localhost:8080/",
     "height": 121
    },
    "colab_type": "code",
    "executionInfo": {
     "elapsed": 159464,
     "status": "ok",
     "timestamp": 1592086524478,
     "user": {
      "displayName": "hung rex",
      "photoUrl": "",
      "userId": "00156008816285199967"
     },
     "user_tz": -480
    },
    "id": "tppllZGDJpyP",
    "outputId": "79b60d26-2e50-4b5a-b7ab-a500c54902cc"
   },
   "outputs": [
    {
     "name": "stdout",
     "output_type": "stream",
     "text": [
      "Go to this URL in a browser: https://accounts.google.com/o/oauth2/auth?client_id=947318989803-6bn6qk8qdgf4n4g3pfee6491hc0brc4i.apps.googleusercontent.com&redirect_uri=urn%3aietf%3awg%3aoauth%3a2.0%3aoob&response_type=code&scope=email%20https%3a%2f%2fwww.googleapis.com%2fauth%2fdocs.test%20https%3a%2f%2fwww.googleapis.com%2fauth%2fdrive%20https%3a%2f%2fwww.googleapis.com%2fauth%2fdrive.photos.readonly%20https%3a%2f%2fwww.googleapis.com%2fauth%2fpeopleapi.readonly\n",
      "\n",
      "Enter your authorization code:\n",
      "··········\n",
      "Mounted at /content/drive\n"
     ]
    }
   ],
   "source": [
    "from google.colab import drive\n",
    "drive.mount('/content/drive')"
   ]
  },
  {
   "cell_type": "code",
   "execution_count": 5,
   "metadata": {
    "colab": {
     "base_uri": "https://localhost:8080/",
     "height": 54
    },
    "colab_type": "code",
    "executionInfo": {
     "elapsed": 4245,
     "status": "ok",
     "timestamp": 1592086529762,
     "user": {
      "displayName": "hung rex",
      "photoUrl": "",
      "userId": "00156008816285199967"
     },
     "user_tz": -480
    },
    "id": "AbYwNKi-V7Fr",
    "outputId": "bd617c36-54d7-41cf-bea6-64cb922f8f85"
   },
   "outputs": [
    {
     "data": {
      "text/plain": [
       "\"\\nprint(type(raw_data6))\\nraw_data6 = json.loads(raw_data6)\\nraw_data6 = pd.read_dict('/content/drive/My Drive/homework/data/raw_data6.json')\\nraw_data6 = pd.DataFrame.from_json(raw_data6, orient='index')\\nraw_data6.reset_index(level=0, inplace=True)\\n\""
      ]
     },
     "execution_count": 5,
     "metadata": {
      "tags": []
     },
     "output_type": "execute_result"
    }
   ],
   "source": [
    "raw_data = pd.read_csv('/content/drive/My Drive/homework/data/raw_data.csv')\n",
    "raw_data1 = pd.read_csv('/content/drive/My Drive/homework/data/raw_data1.csv')\n",
    "raw_data2 = pd.read_csv('/content/drive/My Drive/homework/data/raw_data2.csv')\n",
    "raw_data3 = pd.read_csv('/content/drive/My Drive/homework/data/raw_data3.csv')\n",
    "raw_data4 = pd.read_csv('/content/drive/My Drive/homework/data/raw_data4.csv')\n",
    "raw_data5 = pd.read_csv('/content/drive/My Drive/homework/data/raw_data5.csv')\n",
    "case_time_series = pd.read_csv('/content/drive/My Drive/homework/data/case_time_series.csv')\n",
    "death_and_recovered = pd.read_csv('/content/drive/My Drive/homework/data/death_and_recovered.csv')\n",
    "#death_and_recovered1 = pd.read_csv('/content/drive/My Drive/homework/data/death_and_recovered1.csv')\n",
    "#death_and_recovered2 = pd.read_csv('/content/drive/My Drive/homework/data/death_and_recovered2.csv')\n",
    "district_wise = pd.read_csv('/content/drive/My Drive/homework/data/district_wise.csv')\n",
    "sources_list = pd.read_csv('/content/drive/My Drive/homework/data/sources_list.csv')\n",
    "state_wise = pd.read_csv('/content/drive/My Drive/homework/data/state_wise.csv')\n",
    "state_wise_daily = pd.read_csv('/content/drive/My Drive/homework/data/state_wise_daily.csv')\n",
    "statewise_tested_numbers_data = pd.read_csv('/content/drive/My Drive/homework/data/statewise_tested_numbers_data.csv')\n",
    "tested_numbers_icmr_data = pd.read_csv('/content/drive/My Drive/homework/data/tested_numbers_icmr_data.csv')\n",
    "raw_data6 = pd.read_csv('/content/drive/My Drive/homework/data/travel_history.csv')\n",
    "'''\n",
    "print(type(raw_data6))\n",
    "raw_data6 = json.loads(raw_data6)\n",
    "raw_data6 = pd.read_dict('/content/drive/My Drive/homework/data/raw_data6.json')\n",
    "raw_data6 = pd.DataFrame.from_json(raw_data6, orient='index')\n",
    "raw_data6.reset_index(level=0, inplace=True)\n",
    "'''"
   ]
  },
  {
   "cell_type": "code",
   "execution_count": 0,
   "metadata": {
    "colab": {},
    "colab_type": "code",
    "id": "u3wm-qUhZS8Q"
   },
   "outputs": [],
   "source": [
    "merge_raw_data_1 = raw_data1.append(raw_data2)"
   ]
  },
  {
   "cell_type": "code",
   "execution_count": 0,
   "metadata": {
    "colab": {},
    "colab_type": "code",
    "id": "4ULf7jhvd3nt"
   },
   "outputs": [],
   "source": [
    "merge_raw_data_2 = raw_data3.append(raw_data4)\n",
    "merge_raw_data_2= merge_raw_data_2.append(raw_data5)"
   ]
  },
  {
   "cell_type": "code",
   "execution_count": 0,
   "metadata": {
    "colab": {},
    "colab_type": "code",
    "id": "x7IJDIImfvmS"
   },
   "outputs": [],
   "source": [
    "col=merge_raw_data_2.columns.tolist()\n",
    "merge_raw_data_2['Num cases'] = merge_raw_data_2['Num Cases'] \n",
    "#merge_raw_data_2.info()"
   ]
  },
  {
   "cell_type": "code",
   "execution_count": 0,
   "metadata": {
    "colab": {},
    "colab_type": "code",
    "id": "wru9OShBg_u3"
   },
   "outputs": [],
   "source": [
    "mask = ['Patient Number','State Patient Number', 'Date Announced', 'Age Bracket', 'Gender', 'Detected City', 'Detected District', 'Detected State', 'State code', 'Current Status', 'Contracted from which Patient (Suspected)', 'Notes', 'Nationality', 'Type of transmission', 'Status Change Date', 'Num cases']\n",
    "merge_raw_data_1 = merge_raw_data_1[mask]\n",
    "merge_raw_data_2 = merge_raw_data_2[mask]\n",
    "raw_data = merge_raw_data_1.append(merge_raw_data_2)\n",
    "#raw_data.info()"
   ]
  },
  {
   "cell_type": "markdown",
   "metadata": {
    "colab_type": "text",
    "id": "nyBvnNkSBXwl"
   },
   "source": [
    "# **印度各州隨時間的總感染數變化 - state_wise_daily資料**"
   ]
  },
  {
   "cell_type": "code",
   "execution_count": 0,
   "metadata": {
    "colab": {},
    "colab_type": "code",
    "id": "wCKt1kNzEQs9"
   },
   "outputs": [],
   "source": [
    "df_tc = copy.deepcopy(state_wise_daily)"
   ]
  },
  {
   "cell_type": "markdown",
   "metadata": {
    "colab_type": "text",
    "id": "gS-RgDvvFE4i"
   },
   "source": [
    "### 取狀態為 confirmed cases 的資料"
   ]
  },
  {
   "cell_type": "code",
   "execution_count": 0,
   "metadata": {
    "colab": {},
    "colab_type": "code",
    "id": "JhDa1cKIE72_"
   },
   "outputs": [],
   "source": [
    "df_tc_conf = df_tc.loc[df_tc['Status']=='Confirmed']"
   ]
  },
  {
   "cell_type": "code",
   "execution_count": 0,
   "metadata": {
    "colab": {},
    "colab_type": "code",
    "id": "Yk434CcOFG7M"
   },
   "outputs": [],
   "source": [
    "df_tc_conf.reset_index(inplace=True)\n",
    "df_tc_conf.drop(columns=['index'],axis=1,inplace=True)"
   ]
  },
  {
   "cell_type": "markdown",
   "metadata": {
    "colab_type": "text",
    "id": "U46WaQ0RFT3a"
   },
   "source": [
    "### 計算各州隨時間累積總確診數"
   ]
  },
  {
   "cell_type": "code",
   "execution_count": 0,
   "metadata": {
    "colab": {},
    "colab_type": "code",
    "id": "eb06XzCPFZmm"
   },
   "outputs": [],
   "source": [
    "for col in df_tc_conf.columns[2:]:\n",
    "    for i in range(81):\n",
    "        df_tc_conf[col][i+1] = df_tc_conf[col][i]+df_tc_conf[col][i+1]"
   ]
  },
  {
   "cell_type": "code",
   "execution_count": 0,
   "metadata": {
    "colab": {},
    "colab_type": "code",
    "id": "WLd4AptgFeLN"
   },
   "outputs": [],
   "source": [
    "df_tc_conf.drop(columns=['TT','UN'],axis=1,inplace=True)"
   ]
  },
  {
   "cell_type": "markdown",
   "metadata": {
    "colab_type": "text",
    "id": "RjHPXT1bFnP0"
   },
   "source": [
    "### 利用 melt 轉換各州欄位為單一欄位\"State\" "
   ]
  },
  {
   "cell_type": "code",
   "execution_count": 0,
   "metadata": {
    "colab": {},
    "colab_type": "code",
    "id": "YBHFKb6jFufy"
   },
   "outputs": [],
   "source": [
    "df_tc_conf_melt = df_tc_conf.melt(id_vars=['Date','Status'], var_name = \"State\", value_name = \"Total Cases\")"
   ]
  },
  {
   "cell_type": "markdown",
   "metadata": {
    "colab_type": "text",
    "id": "Xc9PJsXjF5k1"
   },
   "source": [
    "### 替換州碼，讓後續地圖可以透過州名抓位置"
   ]
  },
  {
   "cell_type": "code",
   "execution_count": 0,
   "metadata": {
    "colab": {},
    "colab_type": "code",
    "id": "IB93nixHGCgI"
   },
   "outputs": [],
   "source": [
    "state_code_switch = {\n",
    "    'AP':'Andhra Pradesh','AR':'Arunachal Pradesh','AS':'Assam','BR':'Bihar','CT':'Chhattisgarh','GA':'Goa','GJ':'Gujarat','HR':'Haryana','HP':'Himachal Pradesh',\n",
    "    'JK':'Jammu and Kashmir','JH':'Jharkhand','KA':'Karnataka','KL':'Kerala','MP':'Madhya Pradesh','MH':'Maharashtra','MN':'Manipur','ML':'Meghalaya','MZ':'Mizoram',\n",
    "    'NL':'Nagaland','OR':'Orissa','PB':'Punjab','RJ':'Rajasthan','SK':'Sikkim','TN':'Tamil Nadu','TR':'Tripura','UT':'Uttarakhand','UP':'Uttar Pradesh','WB':'West Bengal',\n",
    "    'TN':'Tamil Nadu','TR':'Tripura','AN':'Andaman and Nicobar Islands','CH':'Chandigarh','DH':'Dadra and Nagar Haveli','DD':'Daman and Diu','DL':'Delhi','LD':'Lakshadweep',\n",
    "    'DN':'Dadra and Nagar Haveli and Daman and Diu','TG':'Telangana','PY':'Puducherry','LA':'Ladakh'\n",
    "}"
   ]
  },
  {
   "cell_type": "code",
   "execution_count": 0,
   "metadata": {
    "colab": {},
    "colab_type": "code",
    "id": "GfW_ubdsGOJD"
   },
   "outputs": [],
   "source": [
    "df_tc_conf_melt['State'] = df_tc_conf_melt['State'].map(state_code_switch)"
   ]
  },
  {
   "cell_type": "markdown",
   "metadata": {
    "colab_type": "text",
    "id": "c6qvpuy8GlSg"
   },
   "source": [
    "## 新增月份日期欄位"
   ]
  },
  {
   "cell_type": "code",
   "execution_count": 0,
   "metadata": {
    "colab": {},
    "colab_type": "code",
    "id": "o77ULBrqGmLa"
   },
   "outputs": [],
   "source": [
    "df_tc_conf_melt['Month']=df_tc_conf_melt['Date'].str.split('-',expand=True)[1]\n",
    "df_tc_conf_melt['Day']=df_tc_conf_melt['Date'].str.split('-',expand=True)[0]"
   ]
  },
  {
   "cell_type": "code",
   "execution_count": 0,
   "metadata": {
    "colab": {},
    "colab_type": "code",
    "id": "x5Fj_4LFGpM5"
   },
   "outputs": [],
   "source": [
    "df_conf_m = df_tc_conf_melt.loc[(df_tc_conf_melt['Day']=='30')|\n",
    "                                ((df_tc_conf_melt['Day']=='15')&(df_tc_conf_melt['Month']=='Apr'))|\n",
    "                                ((df_tc_conf_melt['Day']=='15')&(df_tc_conf_melt['Month']=='May'))|\n",
    "                                ((df_tc_conf_melt['Day']=='03')&(df_tc_conf_melt['Month']=='Jun'))]"
   ]
  },
  {
   "cell_type": "code",
   "execution_count": 20,
   "metadata": {
    "colab": {
     "base_uri": "https://localhost:8080/",
     "height": 136
    },
    "colab_type": "code",
    "executionInfo": {
     "elapsed": 729,
     "status": "ok",
     "timestamp": 1592071454868,
     "user": {
      "displayName": "hung rex",
      "photoUrl": "",
      "userId": "00156008816285199967"
     },
     "user_tz": -480
    },
    "id": "JoBCvo2hGqzo",
    "outputId": "6c8fd66c-ce14-46f1-fff5-a1574c215a82"
   },
   "outputs": [
    {
     "data": {
      "text/html": [
       "<div>\n",
       "<style scoped>\n",
       "    .dataframe tbody tr th:only-of-type {\n",
       "        vertical-align: middle;\n",
       "    }\n",
       "\n",
       "    .dataframe tbody tr th {\n",
       "        vertical-align: top;\n",
       "    }\n",
       "\n",
       "    .dataframe thead th {\n",
       "        text-align: right;\n",
       "    }\n",
       "</style>\n",
       "<table border=\"1\" class=\"dataframe\">\n",
       "  <thead>\n",
       "    <tr style=\"text-align: right;\">\n",
       "      <th></th>\n",
       "      <th>Date</th>\n",
       "      <th>Status</th>\n",
       "      <th>State</th>\n",
       "      <th>Total Cases</th>\n",
       "      <th>Month</th>\n",
       "      <th>Day</th>\n",
       "    </tr>\n",
       "  </thead>\n",
       "  <tbody>\n",
       "    <tr>\n",
       "      <th>16</th>\n",
       "      <td>30-Mar-20</td>\n",
       "      <td>Confirmed</td>\n",
       "      <td>Andaman and Nicobar Islands</td>\n",
       "      <td>10</td>\n",
       "      <td>Mar</td>\n",
       "      <td>30</td>\n",
       "    </tr>\n",
       "    <tr>\n",
       "      <th>32</th>\n",
       "      <td>15-Apr-20</td>\n",
       "      <td>Confirmed</td>\n",
       "      <td>Andaman and Nicobar Islands</td>\n",
       "      <td>11</td>\n",
       "      <td>Apr</td>\n",
       "      <td>15</td>\n",
       "    </tr>\n",
       "    <tr>\n",
       "      <th>47</th>\n",
       "      <td>30-Apr-20</td>\n",
       "      <td>Confirmed</td>\n",
       "      <td>Andaman and Nicobar Islands</td>\n",
       "      <td>33</td>\n",
       "      <td>Apr</td>\n",
       "      <td>30</td>\n",
       "    </tr>\n",
       "  </tbody>\n",
       "</table>\n",
       "</div>"
      ],
      "text/plain": [
       "         Date     Status                        State  Total Cases Month Day\n",
       "16  30-Mar-20  Confirmed  Andaman and Nicobar Islands           10   Mar  30\n",
       "32  15-Apr-20  Confirmed  Andaman and Nicobar Islands           11   Apr  15\n",
       "47  30-Apr-20  Confirmed  Andaman and Nicobar Islands           33   Apr  30"
      ]
     },
     "execution_count": 20,
     "metadata": {
      "tags": []
     },
     "output_type": "execute_result"
    }
   ],
   "source": [
    "df_conf_m.head(3)"
   ]
  },
  {
   "cell_type": "markdown",
   "metadata": {
    "colab_type": "text",
    "id": "CXQ-av9XGtXY"
   },
   "source": [
    "-------"
   ]
  },
  {
   "cell_type": "markdown",
   "metadata": {
    "colab_type": "text",
    "id": "h-HV4s5zGwVH"
   },
   "source": [
    "# **視覺化 - 印度各州隨時間總感染數變化**"
   ]
  },
  {
   "cell_type": "markdown",
   "metadata": {
    "colab_type": "text",
    "id": "tygkohtYHXv9"
   },
   "source": [
    "### 抓取印度地圖 geojson"
   ]
  },
  {
   "cell_type": "code",
   "execution_count": 0,
   "metadata": {
    "colab": {},
    "colab_type": "code",
    "id": "xW1qErrkHVRY"
   },
   "outputs": [],
   "source": [
    "indiajson_url = 'https://raw.githubusercontent.com/Subhash9325/GeoJson-Data-of-Indian-States/master/Indian_States'\n",
    "india_states_geo = requests.get(indiajson_url).json()"
   ]
  },
  {
   "cell_type": "markdown",
   "metadata": {
    "colab_type": "text",
    "id": "uz2W6rJiHdeM"
   },
   "source": [
    "### 畫圖"
   ]
  },
  {
   "cell_type": "code",
   "execution_count": 22,
   "metadata": {
    "colab": {
     "base_uri": "https://localhost:8080/",
     "height": 370
    },
    "colab_type": "code",
    "executionInfo": {
     "elapsed": 957,
     "status": "error",
     "timestamp": 1592071462298,
     "user": {
      "displayName": "hung rex",
      "photoUrl": "",
      "userId": "00156008816285199967"
     },
     "user_tz": -480
    },
    "id": "fgl_FUqbGzpW",
    "outputId": "cba7d760-9ee5-456b-8453-ea735c27df83"
   },
   "outputs": [
    {
     "ename": "ValueError",
     "evalue": "ignored",
     "output_type": "error",
     "traceback": [
      "\u001b[0;31m---------------------------------------------------------------------------\u001b[0m",
      "\u001b[0;31mAttributeError\u001b[0m                            Traceback (most recent call last)",
      "\u001b[0;32m/usr/local/lib/python3.6/dist-packages/plotly/express/_core.py\u001b[0m in \u001b[0;36mapply_default_cascade\u001b[0;34m(args)\u001b[0m\n\u001b[1;32m    746\u001b[0m     \u001b[0;31m# Create base trace specification\u001b[0m\u001b[0;34m\u001b[0m\u001b[0;34m\u001b[0m\u001b[0;34m\u001b[0m\u001b[0m\n\u001b[0;32m--> 747\u001b[0;31m     \u001b[0mresult\u001b[0m \u001b[0;34m=\u001b[0m \u001b[0;34m[\u001b[0m\u001b[0mTraceSpec\u001b[0m\u001b[0;34m(\u001b[0m\u001b[0mconstructor\u001b[0m\u001b[0;34m,\u001b[0m \u001b[0mattrs\u001b[0m\u001b[0;34m,\u001b[0m \u001b[0mtrace_patch\u001b[0m\u001b[0;34m,\u001b[0m \u001b[0;32mNone\u001b[0m\u001b[0;34m)\u001b[0m\u001b[0;34m]\u001b[0m\u001b[0;34m\u001b[0m\u001b[0;34m\u001b[0m\u001b[0m\n\u001b[0m\u001b[1;32m    748\u001b[0m \u001b[0;34m\u001b[0m\u001b[0m\n",
      "\u001b[0;32m/usr/local/lib/python3.6/dist-packages/plotly/io/_templates.py\u001b[0m in \u001b[0;36m__getitem__\u001b[0;34m(self, item)\u001b[0m\n\u001b[1;32m     90\u001b[0m                     \u001b[0mtemplate_dict\u001b[0m \u001b[0;34m=\u001b[0m \u001b[0mjson\u001b[0m\u001b[0;34m.\u001b[0m\u001b[0mloads\u001b[0m\u001b[0;34m(\u001b[0m\u001b[0mtemplate_str\u001b[0m\u001b[0;34m)\u001b[0m\u001b[0;34m\u001b[0m\u001b[0;34m\u001b[0m\u001b[0m\n\u001b[0;32m---> 91\u001b[0;31m                     \u001b[0mtemplate\u001b[0m \u001b[0;34m=\u001b[0m \u001b[0mTemplate\u001b[0m\u001b[0;34m(\u001b[0m\u001b[0mtemplate_dict\u001b[0m\u001b[0;34m,\u001b[0m \u001b[0m_validate\u001b[0m\u001b[0;34m=\u001b[0m\u001b[0;32mFalse\u001b[0m\u001b[0;34m)\u001b[0m\u001b[0;34m\u001b[0m\u001b[0;34m\u001b[0m\u001b[0m\n\u001b[0m\u001b[1;32m     92\u001b[0m \u001b[0;34m\u001b[0m\u001b[0m\n",
      "\u001b[0;32m/usr/local/lib/python3.6/dist-packages/plotly/graph_objs/layout/__init__.py\u001b[0m in \u001b[0;36m__init__\u001b[0;34m(self, arg, data, layout, **kwargs)\u001b[0m\n",
      "\u001b[0;32m/usr/local/lib/python3.6/dist-packages/plotly/basedatatypes.py\u001b[0m in \u001b[0;36m__setitem__\u001b[0;34m(self, prop, value)\u001b[0m\n\u001b[1;32m   3481\u001b[0m         \u001b[0minvalid_kwargs\u001b[0m \u001b[0;34m=\u001b[0m \u001b[0;34m{\u001b[0m\u001b[0;34m}\u001b[0m\u001b[0;34m\u001b[0m\u001b[0;34m\u001b[0m\u001b[0m\n\u001b[0;32m-> 3482\u001b[0;31m         \u001b[0;32mfor\u001b[0m \u001b[0mk\u001b[0m\u001b[0;34m,\u001b[0m \u001b[0mv\u001b[0m \u001b[0;32min\u001b[0m \u001b[0mkwargs\u001b[0m\u001b[0;34m.\u001b[0m\u001b[0mitems\u001b[0m\u001b[0;34m(\u001b[0m\u001b[0;34m)\u001b[0m\u001b[0;34m:\u001b[0m\u001b[0;34m\u001b[0m\u001b[0;34m\u001b[0m\u001b[0m\n\u001b[0m\u001b[1;32m   3483\u001b[0m             \u001b[0;32mif\u001b[0m \u001b[0mk\u001b[0m \u001b[0;32min\u001b[0m \u001b[0mself\u001b[0m\u001b[0;34m:\u001b[0m\u001b[0;34m\u001b[0m\u001b[0;34m\u001b[0m\u001b[0m\n",
      "\u001b[0;32m/usr/local/lib/python3.6/dist-packages/plotly/basedatatypes.py\u001b[0m in \u001b[0;36m_set_compound_prop\u001b[0;34m(self, prop, val)\u001b[0m\n\u001b[1;32m   3835\u001b[0m                         ]\n\u001b[0;32m-> 3836\u001b[0;31m                     \u001b[0;32melse\u001b[0m\u001b[0;34m:\u001b[0m\u001b[0;34m\u001b[0m\u001b[0;34m\u001b[0m\u001b[0m\n\u001b[0m\u001b[1;32m   3837\u001b[0m                         \u001b[0mself\u001b[0m\u001b[0;34m.\u001b[0m\u001b[0m_compound_array_props\u001b[0m\u001b[0;34m[\u001b[0m\u001b[0mprop\u001b[0m\u001b[0;34m]\u001b[0m \u001b[0;34m=\u001b[0m \u001b[0;34m[\u001b[0m\u001b[0;34m]\u001b[0m\u001b[0;34m\u001b[0m\u001b[0;34m\u001b[0m\u001b[0m\n",
      "\u001b[0;32m/usr/local/lib/python3.6/dist-packages/_plotly_utils/basevalidators.py\u001b[0m in \u001b[0;36mvalidate_coerce\u001b[0;34m(self, v, skip_invalid)\u001b[0m\n\u001b[1;32m   2443\u001b[0m             \u001b[0mv\u001b[0m \u001b[0;34m=\u001b[0m \u001b[0mself\u001b[0m\u001b[0;34m.\u001b[0m\u001b[0mdata_class\u001b[0m\u001b[0;34m(\u001b[0m\u001b[0;34m)\u001b[0m\u001b[0;34m\u001b[0m\u001b[0;34m\u001b[0m\u001b[0m\n\u001b[0;32m-> 2444\u001b[0;31m \u001b[0;34m\u001b[0m\u001b[0m\n\u001b[0m\u001b[1;32m   2445\u001b[0m         \u001b[0;32melif\u001b[0m \u001b[0misinstance\u001b[0m\u001b[0;34m(\u001b[0m\u001b[0mv\u001b[0m\u001b[0;34m,\u001b[0m \u001b[0mdict\u001b[0m\u001b[0;34m)\u001b[0m\u001b[0;34m:\u001b[0m\u001b[0;34m\u001b[0m\u001b[0;34m\u001b[0m\u001b[0m\n",
      "\u001b[0;32m/usr/local/lib/python3.6/dist-packages/plotly/graph_objs/layout/template/__init__.py\u001b[0m in \u001b[0;36m__init__\u001b[0;34m(self, arg, area, barpolar, bar, box, candlestick, carpet, choroplethmapbox, choropleth, cone, contourcarpet, contour, densitymapbox, funnelarea, funnel, heatmapgl, heatmap, histogram2dcontour, histogram2d, histogram, image, indicator, isosurface, mesh3d, ohlc, parcats, parcoords, pie, pointcloud, sankey, scatter3d, scattercarpet, scattergeo, scattergl, scattermapbox, scatterpolargl, scatterpolar, scatter, scatterternary, splom, streamtube, sunburst, surface, table, treemap, violin, volume, waterfall, **kwargs)\u001b[0m\n",
      "\u001b[0;31mAttributeError\u001b[0m: module 'plotly.validators.layout.template.data' has no attribute 'AreasValidator'",
      "\nDuring handling of the above exception, another exception occurred:\n",
      "\u001b[0;31mValueError\u001b[0m                                Traceback (most recent call last)",
      "\u001b[0;32m<ipython-input-22-fc5989551e40>\u001b[0m in \u001b[0;36m<module>\u001b[0;34m()\u001b[0m\n\u001b[1;32m     11\u001b[0m                     \u001b[0mcenter\u001b[0m\u001b[0;34m=\u001b[0m\u001b[0;34m{\u001b[0m\u001b[0;34m\"lat\"\u001b[0m\u001b[0;34m:\u001b[0m \u001b[0;36m23.48\u001b[0m\u001b[0;34m,\u001b[0m \u001b[0;34m\"lon\"\u001b[0m\u001b[0;34m:\u001b[0m \u001b[0;36m80.12\u001b[0m\u001b[0;34m}\u001b[0m\u001b[0;34m,\u001b[0m\u001b[0;34m\u001b[0m\u001b[0;34m\u001b[0m\u001b[0m\n\u001b[1;32m     12\u001b[0m                     \u001b[0mzoom\u001b[0m \u001b[0;34m=\u001b[0m \u001b[0;36m3\u001b[0m\u001b[0;34m,\u001b[0m\u001b[0;34m\u001b[0m\u001b[0;34m\u001b[0m\u001b[0m\n\u001b[0;32m---> 13\u001b[0;31m                     \u001b[0manimation_frame\u001b[0m\u001b[0;34m=\u001b[0m\u001b[0;34m'Date'\u001b[0m\u001b[0;34m\u001b[0m\u001b[0;34m\u001b[0m\u001b[0m\n\u001b[0m\u001b[1;32m     14\u001b[0m                    )\n\u001b[1;32m     15\u001b[0m \u001b[0mfig\u001b[0m\u001b[0;34m.\u001b[0m\u001b[0mshow\u001b[0m\u001b[0;34m(\u001b[0m\u001b[0;34m)\u001b[0m\u001b[0;34m\u001b[0m\u001b[0;34m\u001b[0m\u001b[0m\n",
      "\u001b[0;32m/usr/local/lib/python3.6/dist-packages/plotly/express/_chart_types.py\u001b[0m in \u001b[0;36mchoropleth_mapbox\u001b[0;34m(data_frame, geojson, locations, color, hover_name, hover_data, custom_data, animation_frame, animation_group, category_orders, labels, color_continuous_scale, range_color, color_continuous_midpoint, opacity, zoom, center, mapbox_style, title, template, width, height)\u001b[0m\n\u001b[1;32m   1035\u001b[0m     \u001b[0;32mreturn\u001b[0m \u001b[0mmake_figure\u001b[0m\u001b[0;34m(\u001b[0m\u001b[0margs\u001b[0m\u001b[0;34m=\u001b[0m\u001b[0mlocals\u001b[0m\u001b[0;34m(\u001b[0m\u001b[0;34m)\u001b[0m\u001b[0;34m,\u001b[0m \u001b[0mconstructor\u001b[0m\u001b[0;34m=\u001b[0m\u001b[0mgo\u001b[0m\u001b[0;34m.\u001b[0m\u001b[0mScattermapbox\u001b[0m\u001b[0;34m)\u001b[0m\u001b[0;34m\u001b[0m\u001b[0;34m\u001b[0m\u001b[0m\n\u001b[1;32m   1036\u001b[0m \u001b[0;34m\u001b[0m\u001b[0m\n\u001b[0;32m-> 1037\u001b[0;31m \u001b[0;34m\u001b[0m\u001b[0m\n\u001b[0m\u001b[1;32m   1038\u001b[0m \u001b[0mscatter_mapbox\u001b[0m\u001b[0;34m.\u001b[0m\u001b[0m__doc__\u001b[0m \u001b[0;34m=\u001b[0m \u001b[0mmake_docstring\u001b[0m\u001b[0;34m(\u001b[0m\u001b[0mscatter_mapbox\u001b[0m\u001b[0;34m)\u001b[0m\u001b[0;34m\u001b[0m\u001b[0;34m\u001b[0m\u001b[0m\n\u001b[1;32m   1039\u001b[0m \u001b[0;34m\u001b[0m\u001b[0m\n",
      "\u001b[0;32m/usr/local/lib/python3.6/dist-packages/plotly/express/_core.py\u001b[0m in \u001b[0;36mmake_figure\u001b[0;34m(args, constructor, trace_patch, layout_patch)\u001b[0m\n\u001b[1;32m   1167\u001b[0m \u001b[0;34m\u001b[0m\u001b[0m\n\u001b[1;32m   1168\u001b[0m             \u001b[0;31m# Finally, update argument with column name now that column exists\u001b[0m\u001b[0;34m\u001b[0m\u001b[0;34m\u001b[0m\u001b[0;34m\u001b[0m\u001b[0m\n\u001b[0;32m-> 1169\u001b[0;31m             assert col_name is not None, (\n\u001b[0m\u001b[1;32m   1170\u001b[0m                 \u001b[0;34m\"Data-frame processing failure, likely due to a internal bug. \"\u001b[0m\u001b[0;34m\u001b[0m\u001b[0;34m\u001b[0m\u001b[0m\n\u001b[1;32m   1171\u001b[0m                 \u001b[0;34m\"Please report this to \"\u001b[0m\u001b[0;34m\u001b[0m\u001b[0;34m\u001b[0m\u001b[0m\n",
      "\u001b[0;32m/usr/local/lib/python3.6/dist-packages/plotly/express/_core.py\u001b[0m in \u001b[0;36mapply_default_cascade\u001b[0;34m(args)\u001b[0m\n\u001b[1;32m    748\u001b[0m \u001b[0;34m\u001b[0m\u001b[0m\n\u001b[1;32m    749\u001b[0m     \u001b[0;31m# Add marginal trace specifications\u001b[0m\u001b[0;34m\u001b[0m\u001b[0;34m\u001b[0m\u001b[0;34m\u001b[0m\u001b[0m\n\u001b[0;32m--> 750\u001b[0;31m     \u001b[0;32mfor\u001b[0m \u001b[0mletter\u001b[0m \u001b[0;32min\u001b[0m \u001b[0;34m[\u001b[0m\u001b[0;34m\"x\"\u001b[0m\u001b[0;34m,\u001b[0m \u001b[0;34m\"y\"\u001b[0m\u001b[0;34m]\u001b[0m\u001b[0;34m:\u001b[0m\u001b[0;34m\u001b[0m\u001b[0;34m\u001b[0m\u001b[0m\n\u001b[0m\u001b[1;32m    751\u001b[0m         \u001b[0;32mif\u001b[0m \u001b[0;34m\"marginal_\"\u001b[0m \u001b[0;34m+\u001b[0m \u001b[0mletter\u001b[0m \u001b[0;32min\u001b[0m \u001b[0margs\u001b[0m \u001b[0;32mand\u001b[0m \u001b[0margs\u001b[0m\u001b[0;34m[\u001b[0m\u001b[0;34m\"marginal_\"\u001b[0m \u001b[0;34m+\u001b[0m \u001b[0mletter\u001b[0m\u001b[0;34m]\u001b[0m\u001b[0;34m:\u001b[0m\u001b[0;34m\u001b[0m\u001b[0;34m\u001b[0m\u001b[0m\n\u001b[1;32m    752\u001b[0m             \u001b[0mtrace_spec\u001b[0m \u001b[0;34m=\u001b[0m \u001b[0;32mNone\u001b[0m\u001b[0;34m\u001b[0m\u001b[0;34m\u001b[0m\u001b[0m\n",
      "\u001b[0;32m/usr/local/lib/python3.6/dist-packages/plotly/graph_objs/layout/__init__.py\u001b[0m in \u001b[0;36m__init__\u001b[0;34m(self, arg, data, layout, **kwargs)\u001b[0m\n",
      "\u001b[0;31mValueError\u001b[0m: The first argument to the plotly.graph_objs.layout.Template \nconstructor must be a dict or \nan instance of plotly.graph_objs.layout.Template"
     ]
    }
   ],
   "source": [
    "fig =  px.choropleth_mapbox(\n",
    "                    data_frame=df_conf_m, \n",
    "                    geojson=india_states_geo, \n",
    "                    locations='State',\n",
    "                    #featureidkey='properties.NAME_1',\n",
    "                    color='Total Cases',\n",
    "                    range_color=[0,75000],\n",
    "                    color_continuous_scale='Reds',\n",
    "                    hover_name=\"State\",\n",
    "                    mapbox_style=\"carto-positron\",\n",
    "                    center={\"lat\": 23.48, \"lon\": 80.12},\n",
    "                    zoom = 3,\n",
    "                    animation_frame='Date'\n",
    "                   )\n",
    "fig.show()\n"
   ]
  },
  {
   "cell_type": "markdown",
   "metadata": {
    "colab_type": "text",
    "id": "Iro8QO5I6T1S"
   },
   "source": [
    "## 調查各個省分的狀態\n",
    "[reference](https://www.covid19india.org/)\n",
    "\n",
    "[new data resource](https://github.com/imdevskp/covid-19-india-data)"
   ]
  },
  {
   "cell_type": "code",
   "execution_count": 33,
   "metadata": {
    "colab": {
     "base_uri": "https://localhost:8080/",
     "height": 403
    },
    "colab_type": "code",
    "executionInfo": {
     "elapsed": 946,
     "status": "ok",
     "timestamp": 1592072038277,
     "user": {
      "displayName": "hung rex",
      "photoUrl": "",
      "userId": "00156008816285199967"
     },
     "user_tz": -480
    },
    "id": "B_9YauIvHhMo",
    "outputId": "e90533f1-c3ac-48fd-8e55-74fd861868fe"
   },
   "outputs": [
    {
     "name": "stdout",
     "output_type": "stream",
     "text": [
      "<class 'pandas.core.frame.DataFrame'>\n",
      "Int64Index: 76861 entries, 0 to 20437\n",
      "Data columns (total 16 columns):\n",
      " #   Column                                     Non-Null Count  Dtype  \n",
      "---  ------                                     --------------  -----  \n",
      " 0   Patient Number                             76370 non-null  float64\n",
      " 1   State Patient Number                       15555 non-null  object \n",
      " 2   Date Announced                             76861 non-null  object \n",
      " 3   Age Bracket                                30751 non-null  object \n",
      " 4   Gender                                     33408 non-null  object \n",
      " 5   Detected City                              5204 non-null   object \n",
      " 6   Detected District                          69348 non-null  object \n",
      " 7   Detected State                             76853 non-null  object \n",
      " 8   State code                                 76853 non-null  object \n",
      " 9   Current Status                             76859 non-null  object \n",
      " 10  Contracted from which Patient (Suspected)  1922 non-null   object \n",
      " 11  Notes                                      33615 non-null  object \n",
      " 12  Nationality                                2709 non-null   object \n",
      " 13  Type of transmission                       2990 non-null   object \n",
      " 14  Status Change Date                         27780 non-null  object \n",
      " 15  Num cases                                  76858 non-null  float64\n",
      "dtypes: float64(2), object(14)\n",
      "memory usage: 10.0+ MB\n"
     ]
    }
   ],
   "source": [
    "raw_data.info()"
   ]
  },
  {
   "cell_type": "code",
   "execution_count": 34,
   "metadata": {
    "colab": {
     "base_uri": "https://localhost:8080/",
     "height": 346
    },
    "colab_type": "code",
    "executionInfo": {
     "elapsed": 767,
     "status": "ok",
     "timestamp": 1592072041183,
     "user": {
      "displayName": "hung rex",
      "photoUrl": "",
      "userId": "00156008816285199967"
     },
     "user_tz": -480
    },
    "id": "Xhynudtp3Pcc",
    "outputId": "05bd6eab-e6f1-42d7-cad3-feac1f6530cb"
   },
   "outputs": [
    {
     "data": {
      "text/html": [
       "<div>\n",
       "<style scoped>\n",
       "    .dataframe tbody tr th:only-of-type {\n",
       "        vertical-align: middle;\n",
       "    }\n",
       "\n",
       "    .dataframe tbody tr th {\n",
       "        vertical-align: top;\n",
       "    }\n",
       "\n",
       "    .dataframe thead th {\n",
       "        text-align: right;\n",
       "    }\n",
       "</style>\n",
       "<table border=\"1\" class=\"dataframe\">\n",
       "  <thead>\n",
       "    <tr style=\"text-align: right;\">\n",
       "      <th></th>\n",
       "      <th>Patient Number</th>\n",
       "      <th>State Patient Number</th>\n",
       "      <th>Date Announced</th>\n",
       "      <th>Age Bracket</th>\n",
       "      <th>Gender</th>\n",
       "      <th>Detected City</th>\n",
       "      <th>Detected District</th>\n",
       "      <th>Detected State</th>\n",
       "      <th>State code</th>\n",
       "      <th>Current Status</th>\n",
       "      <th>Contracted from which Patient (Suspected)</th>\n",
       "      <th>Notes</th>\n",
       "      <th>Nationality</th>\n",
       "      <th>Type of transmission</th>\n",
       "      <th>Status Change Date</th>\n",
       "      <th>Num cases</th>\n",
       "    </tr>\n",
       "  </thead>\n",
       "  <tbody>\n",
       "    <tr>\n",
       "      <th>0</th>\n",
       "      <td>1.0</td>\n",
       "      <td>KL-TS-P1</td>\n",
       "      <td>30/01/2020</td>\n",
       "      <td>20</td>\n",
       "      <td>F</td>\n",
       "      <td>Thrissur</td>\n",
       "      <td>Thrissur</td>\n",
       "      <td>Kerala</td>\n",
       "      <td>KL</td>\n",
       "      <td>Recovered</td>\n",
       "      <td>NaN</td>\n",
       "      <td>Travelled from Wuhan</td>\n",
       "      <td>India</td>\n",
       "      <td>Imported</td>\n",
       "      <td>14/02/2020</td>\n",
       "      <td>1.0</td>\n",
       "    </tr>\n",
       "    <tr>\n",
       "      <th>1</th>\n",
       "      <td>2.0</td>\n",
       "      <td>KL-AL-P1</td>\n",
       "      <td>02/02/2020</td>\n",
       "      <td>NaN</td>\n",
       "      <td>NaN</td>\n",
       "      <td>Alappuzha</td>\n",
       "      <td>Alappuzha</td>\n",
       "      <td>Kerala</td>\n",
       "      <td>KL</td>\n",
       "      <td>Recovered</td>\n",
       "      <td>NaN</td>\n",
       "      <td>Travelled from Wuhan</td>\n",
       "      <td>India</td>\n",
       "      <td>Imported</td>\n",
       "      <td>14/02/2020</td>\n",
       "      <td>1.0</td>\n",
       "    </tr>\n",
       "    <tr>\n",
       "      <th>2</th>\n",
       "      <td>3.0</td>\n",
       "      <td>KL-KS-P1</td>\n",
       "      <td>03/02/2020</td>\n",
       "      <td>NaN</td>\n",
       "      <td>NaN</td>\n",
       "      <td>Kasaragod</td>\n",
       "      <td>Kasaragod</td>\n",
       "      <td>Kerala</td>\n",
       "      <td>KL</td>\n",
       "      <td>Recovered</td>\n",
       "      <td>NaN</td>\n",
       "      <td>Travelled from Wuhan</td>\n",
       "      <td>India</td>\n",
       "      <td>Imported</td>\n",
       "      <td>14/02/2020</td>\n",
       "      <td>1.0</td>\n",
       "    </tr>\n",
       "    <tr>\n",
       "      <th>3</th>\n",
       "      <td>4.0</td>\n",
       "      <td>DL-P1</td>\n",
       "      <td>02/03/2020</td>\n",
       "      <td>45</td>\n",
       "      <td>M</td>\n",
       "      <td>East Delhi (Mayur Vihar)</td>\n",
       "      <td>East Delhi</td>\n",
       "      <td>Delhi</td>\n",
       "      <td>DL</td>\n",
       "      <td>Recovered</td>\n",
       "      <td>NaN</td>\n",
       "      <td>Travelled from Austria, Italy</td>\n",
       "      <td>India</td>\n",
       "      <td>Imported</td>\n",
       "      <td>15/03/2020</td>\n",
       "      <td>1.0</td>\n",
       "    </tr>\n",
       "    <tr>\n",
       "      <th>4</th>\n",
       "      <td>5.0</td>\n",
       "      <td>TS-P1</td>\n",
       "      <td>02/03/2020</td>\n",
       "      <td>24</td>\n",
       "      <td>M</td>\n",
       "      <td>Hyderabad</td>\n",
       "      <td>Hyderabad</td>\n",
       "      <td>Telangana</td>\n",
       "      <td>TG</td>\n",
       "      <td>Recovered</td>\n",
       "      <td>NaN</td>\n",
       "      <td>Travelled from Dubai to Bangalore on 20th Feb,...</td>\n",
       "      <td>India</td>\n",
       "      <td>Imported</td>\n",
       "      <td>02/03/2020</td>\n",
       "      <td>1.0</td>\n",
       "    </tr>\n",
       "  </tbody>\n",
       "</table>\n",
       "</div>"
      ],
      "text/plain": [
       "   Patient Number State Patient Number  ... Status Change Date Num cases\n",
       "0             1.0             KL-TS-P1  ...         14/02/2020       1.0\n",
       "1             2.0             KL-AL-P1  ...         14/02/2020       1.0\n",
       "2             3.0             KL-KS-P1  ...         14/02/2020       1.0\n",
       "3             4.0                DL-P1  ...         15/03/2020       1.0\n",
       "4             5.0                TS-P1  ...         02/03/2020       1.0\n",
       "\n",
       "[5 rows x 16 columns]"
      ]
     },
     "execution_count": 34,
     "metadata": {
      "tags": []
     },
     "output_type": "execute_result"
    }
   ],
   "source": [
    "raw_data.head()"
   ]
  },
  {
   "cell_type": "code",
   "execution_count": 0,
   "metadata": {
    "colab": {},
    "colab_type": "code",
    "id": "jXKsV1qE3Usa"
   },
   "outputs": [],
   "source": [
    "raw_data[\"Detected District\"].fillna(\"NONE\", inplace = True)"
   ]
  },
  {
   "cell_type": "code",
   "execution_count": 11,
   "metadata": {
    "colab": {
     "base_uri": "https://localhost:8080/",
     "height": 403
    },
    "colab_type": "code",
    "executionInfo": {
     "elapsed": 790,
     "status": "ok",
     "timestamp": 1592086550909,
     "user": {
      "displayName": "hung rex",
      "photoUrl": "",
      "userId": "00156008816285199967"
     },
     "user_tz": -480
    },
    "id": "RAgMFUnp4n09",
    "outputId": "7adf482f-a5e0-49c9-8143-76cb94c2e4a9"
   },
   "outputs": [
    {
     "name": "stdout",
     "output_type": "stream",
     "text": [
      "<class 'pandas.core.frame.DataFrame'>\n",
      "Int64Index: 76861 entries, 0 to 20437\n",
      "Data columns (total 16 columns):\n",
      " #   Column                                     Non-Null Count  Dtype  \n",
      "---  ------                                     --------------  -----  \n",
      " 0   Patient Number                             76370 non-null  float64\n",
      " 1   State Patient Number                       15555 non-null  object \n",
      " 2   Date Announced                             76861 non-null  object \n",
      " 3   Age Bracket                                30751 non-null  object \n",
      " 4   Gender                                     33408 non-null  object \n",
      " 5   Detected City                              5204 non-null   object \n",
      " 6   Detected District                          76861 non-null  object \n",
      " 7   Detected State                             76853 non-null  object \n",
      " 8   State code                                 76853 non-null  object \n",
      " 9   Current Status                             76859 non-null  object \n",
      " 10  Contracted from which Patient (Suspected)  1922 non-null   object \n",
      " 11  Notes                                      33615 non-null  object \n",
      " 12  Nationality                                2709 non-null   object \n",
      " 13  Type of transmission                       2990 non-null   object \n",
      " 14  Status Change Date                         27780 non-null  object \n",
      " 15  Num cases                                  76858 non-null  float64\n",
      "dtypes: float64(2), object(14)\n",
      "memory usage: 10.0+ MB\n"
     ]
    }
   ],
   "source": [
    "raw_data.info()"
   ]
  },
  {
   "cell_type": "code",
   "execution_count": 0,
   "metadata": {
    "colab": {},
    "colab_type": "code",
    "id": "8IxRcOjF4pTC"
   },
   "outputs": [],
   "source": []
  }
 ],
 "metadata": {
  "colab": {
   "collapsed_sections": [],
   "name": "FDA.ipynb",
   "provenance": []
  },
  "kernelspec": {
   "display_name": "Python 3",
   "language": "python",
   "name": "python3"
  },
  "language_info": {
   "codemirror_mode": {
    "name": "ipython",
    "version": 3
   },
   "file_extension": ".py",
   "mimetype": "text/x-python",
   "name": "python",
   "nbconvert_exporter": "python",
   "pygments_lexer": "ipython3",
   "version": "3.8.3"
  }
 },
 "nbformat": 4,
 "nbformat_minor": 1
}
